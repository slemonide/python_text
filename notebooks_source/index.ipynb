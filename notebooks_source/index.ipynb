{
 "cells": [
  {
   "cell_type": "markdown",
   "metadata": {},
   "source": []
  },
  {
   "cell_type": "markdown",
   "metadata": {},
   "source": [
    "# Problem Solving with Python \n",
    "\n",
    "This is a fork of the book [Problem Solving with Python-37](https://github.com/professorkazarinoff/Problem-Solving-with-Python-37-Edition) by [Dr. Peter Kazarinof](https://github.com/ProfessorKazarinoff) \n",
    "that uses the [jupyter-book](https://jupyterbook.org/intro.html) platform.\n"
   ]
  },
  {
   "cell_type": "markdown",
   "metadata": {},
   "source": [
    "## Hard Copy\n",
    "\n",
    "If you like this book, please consider purchasing a hard copy version on Amazon: [https://www.amazon.com/dp/1693405415](https://www.amazon.com/dp/1693405415)\n",
    "\n",
    "## Sources\n",
    "\n",
    "* Original sources for this text are stored on GitHub at [https://github.com/professorkazarinoff/Problem-Solving-with-Python-37-Edition](https://github.com/professorkazarinoff/Problem-Solving-with-Python-37-Edition)\n",
    "\n",
    "* Sources for this fork and instructions on how to start the docker containers run code in the book are on the jb branch here: [https://github.com/phaustin/Problem-Solving-with-Python-37-Edition/blob/jb/README.md](https://github.com/phaustin/Problem-Solving-with-Python-37-Edition/blob/jb/README.md)\n",
    "\n",
    "## License\n",
    "\n",
    "This work is licensed under a GNU General Public License v3.0"
   ]
  }
 ],
 "metadata": {
  "jupytext": {
   "cell_metadata_filter": "-all",
   "notebook_metadata_filter": "-all"
  },
  "kernelspec": {
   "display_name": "Python 3",
   "language": "python",
   "name": "python3"
  },
  "language_info": {
   "codemirror_mode": {
    "name": "ipython",
    "version": 3
   },
   "file_extension": ".py",
   "mimetype": "text/x-python",
   "name": "python",
   "nbconvert_exporter": "python",
   "pygments_lexer": "ipython3",
   "version": "3.7.6"
  },
  "toc": {
   "base_numbering": 1,
   "nav_menu": {},
   "number_sections": false,
   "sideBar": true,
   "skip_h1_title": false,
   "title_cell": "Table of Contents",
   "title_sidebar": "Contents",
   "toc_cell": false,
   "toc_position": {},
   "toc_section_display": true,
   "toc_window_display": true
  }
 },
 "nbformat": 4,
 "nbformat_minor": 4
}
